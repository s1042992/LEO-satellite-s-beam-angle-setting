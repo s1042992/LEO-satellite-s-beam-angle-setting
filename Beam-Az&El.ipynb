{
 "cells": [
  {
   "cell_type": "code",
   "execution_count": 1,
   "metadata": {},
   "outputs": [],
   "source": [
    "import math"
   ]
  },
  {
   "cell_type": "code",
   "execution_count": 2,
   "metadata": {},
   "outputs": [],
   "source": [
    "class Beam():\n",
    "    def __init__(self,name,lap,azimuth,elvation):\n",
    "        self.name = name\n",
    "        self.lap = lap\n",
    "        self.azimuth = azimuth\n",
    "        self.elvation = elvation\n",
    "    \n",
    "    def __str__(self):\n",
    "        #return 'name : {}\\nlap : {}\\nazimuth : {}\\nelvation:{}'.format(self.name,self.lap,self.azimuth,self.elvation)\n",
    "        return '{:.4f} {:.4f}'.format(self.azimuth,self.elvation)\n"
   ]
  },
  {
   "cell_type": "code",
   "execution_count": 4,
   "metadata": {},
   "outputs": [
    {
     "name": "stdout",
     "output_type": "stream",
     "text": [
      "60.0000 85.6778\n",
      "120.0000 85.6778\n",
      "180.0000 85.6778\n",
      "240.0000 85.6778\n",
      "300.0000 85.6778\n",
      "360.0000 85.6778\n",
      "\n",
      "\n"
     ]
    }
   ],
   "source": [
    "n = 1 #全部圈數\n",
    "satellite_height = 550\n",
    "radius = 25\n",
    "base_adjacent = radius/2*math.sqrt(3) #旁邊\n",
    "base_opposite = radius/2*3 #對邊\n",
    "index = 0\n",
    "for i in range(1,n+1):\n",
    "    increment_deg = 60\n",
    "    for j in range(i):\n",
    "        adjacent = base_adjacent * (i+j)\n",
    "        opposite = base_opposite * (i-j)\n",
    "        base_azimuth = 90 - math.degrees(math.atan(adjacent/opposite))\n",
    "        elvation =  math.degrees(math.atan(satellite_height/(adjacent/math.cos(math.radians(base_azimuth)))))\n",
    "\n",
    "        for k in range(6):\n",
    "            azimuth = base_azimuth + increment_deg*k\n",
    "            beam = Beam(index,i,azimuth,elvation)\n",
    "            index = index + 1\n",
    "            print(beam)\n",
    "    print(\"\\n\")\n",
    "    \n",
    "\n"
   ]
  },
  {
   "cell_type": "code",
   "execution_count": null,
   "metadata": {},
   "outputs": [],
   "source": []
  }
 ],
 "metadata": {
  "kernelspec": {
   "display_name": "Python 2",
   "language": "python",
   "name": "python2"
  },
  "language_info": {
   "codemirror_mode": {
    "name": "ipython",
    "version": 2
   },
   "file_extension": ".py",
   "mimetype": "text/x-python",
   "name": "python",
   "nbconvert_exporter": "python",
   "pygments_lexer": "ipython2",
   "version": "2.7.16"
  }
 },
 "nbformat": 4,
 "nbformat_minor": 2
}
